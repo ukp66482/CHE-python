{
 "cells": [
  {
   "cell_type": "code",
   "execution_count": 1,
   "id": "9edf79b1",
   "metadata": {},
   "outputs": [
    {
     "name": "stdout",
     "output_type": "stream",
     "text": [
      "13/3\n",
      "4.333333333333333\n"
     ]
    }
   ],
   "source": [
    "### solve simple equations\n",
    "import sympy\n",
    "x=sympy.symbols(\"x\")\n",
    "equation = 3*x + 4 -17  #3x+4=17\n",
    "solution = sympy.solve(equation)\n",
    "\n",
    "#print the output as a fraction\n",
    "print (solution[0])\n",
    "\n",
    "#print the output as a float\n",
    "print (float(solution[0]))"
   ]
  },
  {
   "cell_type": "code",
   "execution_count": 2,
   "id": "e2b5f603",
   "metadata": {},
   "outputs": [
    {
     "name": "stdout",
     "output_type": "stream",
     "text": [
      "13/3\n"
     ]
    }
   ],
   "source": [
    "### A different way of importing package\n",
    "import sympy\n",
    "from sympy import symbols\n",
    "\n",
    "x=symbols(\"x\")\n",
    "solution = sympy.solve(3*x + 4 -17)\n",
    "print(solution[0])"
   ]
  },
  {
   "cell_type": "code",
   "execution_count": 6,
   "id": "f9961e8c",
   "metadata": {},
   "outputs": [
    {
     "name": "stdout",
     "output_type": "stream",
     "text": [
      "[2, 3]\n"
     ]
    }
   ],
   "source": [
    "### solve the equations of higher orders\n",
    "import sympy\n",
    "\n",
    "x = sympy.symbols(\"x\")\n",
    "square_eq = x**2-5*x+6\n",
    "sol= sympy.solve(square_eq)\n",
    "\n",
    "print(sol)"
   ]
  },
  {
   "cell_type": "code",
   "execution_count": 8,
   "id": "4aac8f76",
   "metadata": {},
   "outputs": [
    {
     "name": "stdout",
     "output_type": "stream",
     "text": [
      "3.8571428571428577 0.4285714285714284\n"
     ]
    }
   ],
   "source": [
    "### solve simutaneous equations as matrix\n",
    "# 2x + 3y = 9\n",
    "# 3x + 8y = 15\n",
    "# symbolize it as AM = B, M is the solution\n",
    "\n",
    "import numpy as np\n",
    "\n",
    "A= np.array([[2,3],[3,8]])\n",
    "\n",
    "B= np.array([9,15])\n",
    "\n",
    "sol = np.linalg.solve(A,B)\n",
    "\n",
    "print(sol[0],sol[1])"
   ]
  },
  {
   "cell_type": "code",
   "execution_count": null,
   "id": "e62005ad",
   "metadata": {},
   "outputs": [],
   "source": []
  }
 ],
 "metadata": {
  "kernelspec": {
   "display_name": "Python 3 (ipykernel)",
   "language": "python",
   "name": "python3"
  },
  "language_info": {
   "codemirror_mode": {
    "name": "ipython",
    "version": 3
   },
   "file_extension": ".py",
   "mimetype": "text/x-python",
   "name": "python",
   "nbconvert_exporter": "python",
   "pygments_lexer": "ipython3",
   "version": "3.9.7"
  }
 },
 "nbformat": 4,
 "nbformat_minor": 5
}
