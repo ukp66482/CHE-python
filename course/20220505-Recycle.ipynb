{
 "cells": [
  {
   "cell_type": "code",
   "execution_count": 8,
   "id": "7bf41ab8",
   "metadata": {},
   "outputs": [
    {
     "data": {
      "text/plain": [
       "{F1: 633.333333333333,\n",
       " F2: 844.444444444444,\n",
       " F3: 211.111111111111,\n",
       " F5: 533.333333333333}"
      ]
     },
     "execution_count": 8,
     "metadata": {},
     "output_type": "execute_result"
    }
   ],
   "source": [
    "import sympy \n",
    "\n",
    "F1,F2,F3,F5 = sympy.symbols(\"F1,F2,F3,F5\")\n",
    "\n",
    "equations =(F2*0.4-F3-100-F5*0.05,\n",
    "            F2*0.6-F5*0.95,\n",
    "            F1*0.2+F3-F2*0.4,\n",
    "            F1*0.8-F2*0.6)\n",
    "\n",
    "sym_equation = []\n",
    "\n",
    "for i in equations:\n",
    "    sym_equation.append(sympy.Eq(i,0))\n",
    "    \n",
    "solutions = sympy.solve(sym_equation,[F1,F2,F3,F5])\n",
    "solutions"
   ]
  },
  {
   "cell_type": "code",
   "execution_count": 7,
   "id": "cbe434c4",
   "metadata": {},
   "outputs": [
    {
     "data": {
      "text/plain": [
       "(0.4*F2 - F3 - 0.05*F5 - 100,\n",
       " 0.6*F2 - 0.95*F5,\n",
       " 0.2*F1 - 0.4*F2 + F3,\n",
       " 0.8*F1 - 0.6*F2)"
      ]
     },
     "execution_count": 7,
     "metadata": {},
     "output_type": "execute_result"
    }
   ],
   "source": [
    "equations\n"
   ]
  },
  {
   "cell_type": "code",
   "execution_count": null,
   "id": "08d7df85",
   "metadata": {},
   "outputs": [],
   "source": []
  }
 ],
 "metadata": {
  "kernelspec": {
   "display_name": "Python 3 (ipykernel)",
   "language": "python",
   "name": "python3"
  },
  "language_info": {
   "codemirror_mode": {
    "name": "ipython",
    "version": 3
   },
   "file_extension": ".py",
   "mimetype": "text/x-python",
   "name": "python",
   "nbconvert_exporter": "python",
   "pygments_lexer": "ipython3",
   "version": "3.9.7"
  }
 },
 "nbformat": 4,
 "nbformat_minor": 5
}
