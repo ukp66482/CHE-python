{
 "cells": [
  {
   "cell_type": "code",
   "execution_count": 14,
   "id": "620f4549",
   "metadata": {},
   "outputs": [
    {
     "data": {
      "text/plain": [
       "[<matplotlib.lines.Line2D at 0x1f1007639a0>]"
      ]
     },
     "execution_count": 14,
     "metadata": {},
     "output_type": "execute_result"
    },
    {
     "data": {
      "image/png": "[encoded data removed]",
      "text/plain": [
       "<Figure size 432x288 with 1 Axes>"
      ]
     },
     "metadata": {
      "needs_background": "light"
     },
     "output_type": "display_data"
    }
   ],
   "source": [
    "import sympy\n",
    "from scipy.optimize import fsolve\n",
    "import numpy as np\n",
    "import matplotlib.pyplot as plt\n",
    "\n",
    "x =np.linspace(-10 ,10 ,100)\n",
    "y1 = x**2 + x - 1\n",
    "y2 = 5*x+50\n",
    "\n",
    "plt.plot(x,y1,color='r')\n",
    "plt.plot(x,y2,color='b',linestyle=\":\")"
   ]
  },
  {
   "cell_type": "code",
   "execution_count": 26,
   "id": "d1b2e8d5",
   "metadata": {},
   "outputs": [
    {
     "name": "stdout",
     "output_type": "stream",
     "text": [
      "-5.416198487095663 22.919007564521685\n",
      "9.416198487095663 97.08099243547832\n"
     ]
    }
   ],
   "source": [
    "#get the roots via sympy\n",
    "\n",
    "sympy.init_printing()\n",
    "\n",
    "X, Y=sympy.symbols(\"X,Y\")\n",
    "eq1 = sympy.Eq(X**2 + X - 1 - Y,0)\n",
    "eq2 = sympy.Eq(5*X + 50 - Y,0)\n",
    "\n",
    "solution_sympy = sympy.solve([eq1,eq2],[X,Y])\n",
    "for i in solution_sympy:\n",
    "    print(float(i[0]),float(i[1]))"
   ]
  },
  {
   "cell_type": "code",
   "execution_count": 30,
   "id": "6a7b5068",
   "metadata": {},
   "outputs": [
    {
     "data": {
      "text/plain": [
       "array([ 9.41619849, 97.08099244])"
      ]
     },
     "execution_count": 30,
     "metadata": {},
     "output_type": "execute_result"
    }
   ],
   "source": [
    "#get the roots via scipy\n",
    "\n",
    "def equation(V):\n",
    "    A, B = V\n",
    "    return (A**2 + A -1 -B,\n",
    "           5*A + 50 -B)\n",
    "\n",
    "solution_scipy = fsolve(equation,[10,100])\n",
    "solution_scipy"
   ]
  },
  {
   "cell_type": "code",
   "execution_count": null,
   "id": "54270898",
   "metadata": {},
   "outputs": [],
   "source": []
  },
  {
   "cell_type": "code",
   "execution_count": null,
   "id": "0c19e9f9",
   "metadata": {},
   "outputs": [],
   "source": []
  }
 ],
 "metadata": {
  "kernelspec": {
   "display_name": "Python 3 (ipykernel)",
   "language": "python",
   "name": "python3"
  },
  "language_info": {
   "codemirror_mode": {
    "name": "ipython",
    "version": 3
   },
   "file_extension": ".py",
   "mimetype": "text/x-python",
   "name": "python",
   "nbconvert_exporter": "python",
   "pygments_lexer": "ipython3",
   "version": "3.9.7"
  }
 },
 "nbformat": 4,
 "nbformat_minor": 5
}
