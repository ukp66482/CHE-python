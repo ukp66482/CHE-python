{
 "cells": [
  {
   "cell_type": "code",
   "execution_count": 31,
   "id": "59f46364",
   "metadata": {},
   "outputs": [],
   "source": [
    "import numpy as np\n",
    "import pandas\n",
    "import sympy\n",
    "\n",
    "#### inputs\n",
    "stream_direction = [\"in\",\"out\",\"out\"]\n",
    "component_labels = [\"Flow rate\",\"Oxygen\",\"Nitrogen\",\"Argon\"]\n",
    "fraction_prefix = \"y\"\n",
    "\n",
    "y1N = 0.7808\n",
    "F2 = 100\n",
    "y2O = 0.9\n",
    "y1O = 0.2098\n",
    "y2N = 0.02\n",
    "y3A = 0\n",
    "\n",
    "####\n",
    "\n",
    "Ns = len(stream_direction)\n",
    "Nc = len(component_labels)-1\n",
    "\n",
    "#### solving procedure\n",
    "\n",
    "s_labels = []\n",
    "for i in range(Ns):\n",
    "    s_labels.append(\"stream-\" + str(i+1) + \"_\" + stream_direction[i])\n",
    "\n",
    "V_empty=np.empty([Ns,Nc+1],dtype=object)\n",
    "df = pandas.DataFrame(V_empty, index=s_labels, columns=component_labels)\n",
    "\n",
    "# Prepare an empty list for storing all variable names\n",
    "all_variables = []\n",
    "\n",
    "# Loop the streams to generate flow rate names\n",
    "\n",
    "for i in range(Ns):\n",
    "    all_variables.append(component_labels[0][0] + str(i+1))\n",
    "\n",
    "for i in range(len(component_labels[1:])):  #starting from 1 because flowrate is not included\n",
    "    for j in range(Ns):\n",
    "        all_variables.append(fraction_prefix + str(j+1) + component_labels[i+1][0])\n",
    "        \n",
    "# Declare the symbols based on the variables\n",
    "all_symbols = sympy.symbols(all_variables)\n"
   ]
  },
  {
   "cell_type": "code",
   "execution_count": 30,
   "id": "7d2c09dc",
   "metadata": {},
   "outputs": [],
   "source": []
  },
  {
   "cell_type": "code",
   "execution_count": null,
   "id": "40258022",
   "metadata": {},
   "outputs": [],
   "source": []
  },
  {
   "cell_type": "code",
   "execution_count": null,
   "id": "9557fbb6",
   "metadata": {},
   "outputs": [],
   "source": []
  },
  {
   "cell_type": "code",
   "execution_count": null,
   "id": "e9de6b32",
   "metadata": {},
   "outputs": [],
   "source": []
  },
  {
   "cell_type": "code",
   "execution_count": null,
   "id": "1ae3d12e",
   "metadata": {},
   "outputs": [],
   "source": []
  },
  {
   "cell_type": "code",
   "execution_count": null,
   "id": "02c1152e",
   "metadata": {},
   "outputs": [],
   "source": []
  },
  {
   "cell_type": "code",
   "execution_count": null,
   "id": "d7c21f01",
   "metadata": {},
   "outputs": [],
   "source": []
  }
 ],
 "metadata": {
  "kernelspec": {
   "display_name": "Python 3 (ipykernel)",
   "language": "python",
   "name": "python3"
  },
  "language_info": {
   "codemirror_mode": {
    "name": "ipython",
    "version": 3
   },
   "file_extension": ".py",
   "mimetype": "text/x-python",
   "name": "python",
   "nbconvert_exporter": "python",
   "pygments_lexer": "ipython3",
   "version": "3.9.7"
  }
 },
 "nbformat": 4,
 "nbformat_minor": 5
}
