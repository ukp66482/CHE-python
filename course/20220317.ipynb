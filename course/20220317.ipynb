{
 "cells": [
  {
   "cell_type": "code",
   "execution_count": 9,
   "id": "36e0b7a0",
   "metadata": {},
   "outputs": [
    {
     "data": {
      "text/latex": [
       "$\\displaystyle \\left(x - 2\\right)^{2} + \\left(y - 3\\right)^{2} = 8$"
      ],
      "text/plain": [
       "Eq((x - 2)**2 + (y - 3)**2, 8)"
      ]
     },
     "execution_count": 9,
     "metadata": {},
     "output_type": "execute_result"
    }
   ],
   "source": [
    "# An alternative way of expressing equations\n",
    "import sympy\n",
    "\n",
    "x,y=sympy.symbols('x,y')\n",
    "eq = (x-2)**2 + (y-3)**2\n",
    "expression_eq = sympy.Eq(eq, 8)\n",
    "\n",
    "# Show the equation \n",
    "expression_eq"
   ]
  },
  {
   "cell_type": "code",
   "execution_count": 10,
   "id": "a2c9c7e5",
   "metadata": {},
   "outputs": [
    {
     "name": "stdout",
     "output_type": "stream",
     "text": [
      "[2 - sqrt(-y**2 + 6*y - 1), sqrt(-y**2 + 6*y - 1) + 2]\n"
     ]
    }
   ],
   "source": [
    "# Solve the equation\n",
    "solution = sympy.solve(expression_eq, x)\n",
    "print(solution)"
   ]
  },
  {
   "cell_type": "code",
   "execution_count": 13,
   "id": "638ffc21",
   "metadata": {},
   "outputs": [
    {
     "data": {
      "text/latex": [
       "$\\displaystyle 2 - \\sqrt{- y^{2} + 6 y - 1}$"
      ],
      "text/plain": [
       "2 - sqrt(-y**2 + 6*y - 1)"
      ]
     },
     "execution_count": 13,
     "metadata": {},
     "output_type": "execute_result"
    }
   ],
   "source": [
    "# show one of the solution \n",
    "solution[0]\n",
    "\n"
   ]
  },
  {
   "cell_type": "code",
   "execution_count": 14,
   "id": "cf922df7",
   "metadata": {},
   "outputs": [
    {
     "data": {
      "text/latex": [
       "$\\displaystyle 2 - 2 \\sqrt{2}$"
      ],
      "text/plain": [
       "2 - 2*sqrt(2)"
      ]
     },
     "execution_count": 14,
     "metadata": {},
     "output_type": "execute_result"
    }
   ],
   "source": [
    "# Enter the value for y and return the solution\n",
    "solution[0].subs(y, 3)"
   ]
  },
  {
   "cell_type": "code",
   "execution_count": 15,
   "id": "9ca38208",
   "metadata": {},
   "outputs": [
    {
     "data": {
      "text/plain": [
       "-0.8284271247461901"
      ]
     },
     "execution_count": 15,
     "metadata": {},
     "output_type": "execute_result"
    }
   ],
   "source": [
    "# Convert the solution to float number\n",
    "float (solution[0].subs(y, 3))\n"
   ]
  },
  {
   "cell_type": "code",
   "execution_count": 23,
   "id": "c8a4e01f",
   "metadata": {},
   "outputs": [
    {
     "data": {
      "text/plain": [
       "array([5.23955774e+02, 4.23955774e+02, 5.07481572e-02, 4.92518428e-02])"
      ]
     },
     "execution_count": 23,
     "metadata": {},
     "output_type": "execute_result"
    }
   ],
   "source": [
    "# Solve the complicated problems (please check the slide file for the solving process) \n",
    "import numpy as np\n",
    "variable_names = [\"F1\",\"F3\",\"y2N\",\"y2A\"]\n",
    "\n",
    "\n",
    "#### solving simutaneous equations by matrix\n",
    "A = np.array([[ 0.2098, -0.047, 0, 0],\n",
    "             [ 0.7808, -0.953, -100, 0],\n",
    "             [ 0.0094, 0, 0, -100],\n",
    "              [ 0, 0, 1, 1]])\n",
    "\n",
    "B = np.array([ 90, 0, 0, 0.1])\n",
    "\n",
    "sol = np.linalg.solve( A, B)\n",
    "\n",
    "sol"
   ]
  },
  {
   "cell_type": "code",
   "execution_count": 24,
   "id": "d15cabe6",
   "metadata": {},
   "outputs": [
    {
     "name": "stdout",
     "output_type": "stream",
     "text": [
      "F1  =  523.955773955774\n",
      "F3  =  423.9557739557741\n",
      "y2N  =  0.05074815724815724\n",
      "y2A  =  0.049251842751842766\n"
     ]
    }
   ],
   "source": [
    "# Show the solutions with their variable names\n",
    "\n",
    "for i in range(len(variable_names)):\n",
    "    print (variable_names[i], \" = \", sol[i])\n"
   ]
  },
  {
   "cell_type": "code",
   "execution_count": null,
   "id": "5e025173",
   "metadata": {},
   "outputs": [],
   "source": []
  },
  {
   "cell_type": "code",
   "execution_count": null,
   "id": "a23af4c2",
   "metadata": {},
   "outputs": [],
   "source": []
  }
 ],
 "metadata": {
  "kernelspec": {
   "display_name": "Python 3 (ipykernel)",
   "language": "python",
   "name": "python3"
  },
  "language_info": {
   "codemirror_mode": {
    "name": "ipython",
    "version": 3
   },
   "file_extension": ".py",
   "mimetype": "text/x-python",
   "name": "python",
   "nbconvert_exporter": "python",
   "pygments_lexer": "ipython3",
   "version": "3.9.7"
  }
 },
 "nbformat": 4,
 "nbformat_minor": 5
}
