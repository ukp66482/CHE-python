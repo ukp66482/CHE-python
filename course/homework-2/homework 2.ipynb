{
 "cells": [
  {
   "cell_type": "code",
   "execution_count": 10,
   "id": "730d0aa9",
   "metadata": {},
   "outputs": [
    {
     "name": "stdout",
     "output_type": "stream",
     "text": [
      "x1 = 2.2222222222222228\n",
      "x2 = 4.4444444444444455\n",
      "x3 = 6.666666666666665\n",
      "x4 = -3.8888888888888897\n"
     ]
    }
   ],
   "source": [
    "#Question 1\n",
    "\n",
    "import numpy\n",
    "\n",
    "variables_names=[\"x1\",\"x2\",\"x3\",\"x4\"]\n",
    "\n",
    "A = ([1, -1, 1, -4],\n",
    "    [2, 0, 1, -1],\n",
    "    [0, 3, 1, 0],\n",
    "    [2, 0, -1, 2])\n",
    "\n",
    "B=([20, 15, 20, -10])\n",
    "\n",
    "solution = numpy.linalg.solve(A, B)\n",
    "\n",
    "for i in range(len(solution)):\n",
    "    print(variables_names[i],'=', solution[i] )"
   ]
  },
  {
   "cell_type": "code",
   "execution_count": 13,
   "id": "6745a63e",
   "metadata": {},
   "outputs": [
    {
     "name": "stdout",
     "output_type": "stream",
     "text": [
      "x1 = 4.391164991562634\n",
      "x2 = -2.391164991562634\n"
     ]
    }
   ],
   "source": [
    "#Question 2(scipy)\n",
    "\n",
    "from scipy.optimize import fsolve\n",
    "\n",
    "variable = [\"x1\",\"x2\"]\n",
    "\n",
    "def eq(V):\n",
    "    x1 , x2 = V\n",
    "    \n",
    "    return(25-x1**2-x2**2,\n",
    "           x1+x2-2)\n",
    "\n",
    "sol = fsolve(eq,[1,1])\n",
    "\n",
    "for i in range(len(sol)):\n",
    "    print(variable[i],\"=\",sol[i])"
   ]
  },
  {
   "cell_type": "code",
   "execution_count": 4,
   "id": "9c19b281",
   "metadata": {},
   "outputs": [
    {
     "name": "stdout",
     "output_type": "stream",
     "text": [
      "x1 = -2.391164991562634  or  4.3911649915626345\n",
      "x2 = 4.3911649915626345  or  -2.391164991562634\n"
     ]
    }
   ],
   "source": [
    "#Question 2(sympy)\n",
    "\n",
    "import sympy\n",
    "\n",
    "x1 = sympy.symbols(\"x1\")\n",
    "x2 = sympy.symbols(\"x2\")\n",
    "\n",
    "sol=sympy.solve([25-x1**2-x2**2,x1+x2-2],[x1,x2])\n",
    "\n",
    "variable = [\"x1\",\"x2\"]\n",
    "\n",
    "for i in range(len(sol)):\n",
    "    print(variable[i],\"=\",float(sol[i][0]),\" or \",float(sol[i][1]))"
   ]
  },
  {
   "cell_type": "code",
   "execution_count": 57,
   "id": "0b9225ea",
   "metadata": {},
   "outputs": [
    {
     "name": "stdout",
     "output_type": "stream",
     "text": [
      "When F1=500\n",
      "solved F2 =  70.9876543220026\n",
      "solved F3 =  358.0246913581955\n",
      "solved F4 =  212.96296296600775\n",
      "solved y1p =  0.21481481481491732\n",
      "solved y1c =  0.16518518518508268\n",
      "solved y3e =  0.36931034482179237\n",
      "solved y3c =  0.2306896551782076\n",
      "solved y4m =  0.6066666666848854\n",
      "solved y4n =  0.2633333333151146\n",
      "\n",
      "The flow rate (by weight) of ethene in stream A is  3702.222222165907 g/hr\n"
     ]
    }
   ],
   "source": [
    "#Question 3 (F1=500)\n",
    "from scipy.optimize import fsolve\n",
    "\n",
    "variable_names = [\"F2\",\"F3\",\"F4\",\"y1p\",\"y1c\",\"y3e\",\"y3c\",\"y4m\",\"y4n\"]\n",
    "\n",
    "def equations(V):\n",
    "    F2, F3, F4, y1p, y1c, y3e, y3c, y4m, y4n = V\n",
    "    F1=500\n",
    "    return(F1*0.33-F3*0.1-F4*y4m,\n",
    "          F1*0.29-F3*y3e-F4*0.06,\n",
    "          F1*y1p-F3*0.3,\n",
    "          F2*0.79-F4*y4n,\n",
    "          F2*0.21-F4*0.07,\n",
    "          F1*y1c-F3*y3c,\n",
    "          y1p+y1c-0.38,\n",
    "          y3e+y3c-0.6,\n",
    "          y4m+y4n-0.87)\n",
    "\n",
    "sol = fsolve(equations, [100,100,100,0.01,0.01,0.01,0.01,0.1,0.1] )\n",
    "ethene = (sol[1]*sol[5])*28\n",
    "print(\"When F1=500\")\n",
    "for i in variable_names:\n",
    "    print(\"solved\",i, \"= \", sol[variable_names.index(i)])\n",
    "\n",
    "print(\"\\nThe flow rate (by weight) of ethene in stream A is \",ethene,\"g/hr\")"
   ]
  },
  {
   "cell_type": "code",
   "execution_count": 58,
   "id": "db1c6c06",
   "metadata": {},
   "outputs": [
    {
     "name": "stdout",
     "output_type": "stream",
     "text": [
      "When F1=700\n",
      "solved F2 =  99.38271605019571\n",
      "solved F3 =  501.23456790319506\n",
      "solved F4 =  298.1481481505871\n",
      "solved y1p =  0.21481481481565504\n",
      "solved y1c =  0.16518518518434497\n",
      "solved y3e =  0.36931034482715064\n",
      "solved y3c =  0.2306896551728493\n",
      "solved y4m =  0.6066666666887259\n",
      "solved y4n =  0.26333333331127406\n",
      "\n",
      "The flow rate (by weight) of ethene in stream A is  5183.111111125271 g/hr\n"
     ]
    }
   ],
   "source": [
    "#Question 3(F1=700)\n",
    "from scipy.optimize import fsolve\n",
    "\n",
    "variable_names = [\"F2\",\"F3\",\"F4\",\"y1p\",\"y1c\",\"y3e\",\"y3c\",\"y4m\",\"y4n\"]\n",
    "\n",
    "def equations(V):\n",
    "    F2, F3, F4, y1p, y1c, y3e, y3c, y4m, y4n = V\n",
    "    F1=700\n",
    "    return(F1*0.33-F3*0.1-F4*y4m,\n",
    "          F1*0.29-F3*y3e-F4*0.06,\n",
    "          F1*y1p-F3*0.3,\n",
    "          F2*0.79-F4*y4n,\n",
    "          F2*0.21-F4*0.07,\n",
    "          F1*y1c-F3*y3c,\n",
    "          y1p+y1c-0.38,\n",
    "          y3e+y3c-0.6,\n",
    "          y4m+y4n-0.87)\n",
    "\n",
    "sol = fsolve(equations, [100,100,100,0.01,0.01,0.01,0.01,0.1,0.1] )\n",
    "ethene = (sol[1]*sol[5])*28\n",
    "print(\"When F1=700\")\n",
    "for i in variable_names:\n",
    "    print(\"solved\",i, \"= \", sol[variable_names.index(i)])\n",
    "\n",
    "print(\"\\nThe flow rate (by weight) of ethene in stream A is \",ethene,\"g/hr\")"
   ]
  },
  {
   "cell_type": "code",
   "execution_count": null,
   "id": "65eb870f",
   "metadata": {},
   "outputs": [],
   "source": []
  }
 ],
 "metadata": {
  "kernelspec": {
   "display_name": "Python 3 (ipykernel)",
   "language": "python",
   "name": "python3"
  },
  "language_info": {
   "codemirror_mode": {
    "name": "ipython",
    "version": 3
   },
   "file_extension": ".py",
   "mimetype": "text/x-python",
   "name": "python",
   "nbconvert_exporter": "python",
   "pygments_lexer": "ipython3",
   "version": "3.9.7"
  }
 },
 "nbformat": 4,
 "nbformat_minor": 5
}
