{
 "cells": [
  {
   "cell_type": "code",
   "execution_count": 3,
   "id": "36063344",
   "metadata": {},
   "outputs": [
    {
     "name": "stdout",
     "output_type": "stream",
     "text": [
      "solved F1 =  523.9557739557741\n",
      "solved F3 =  423.9557739557745\n",
      "solved y2A =  0.04925184275184276\n",
      "solved y2N =  0.05074815724815379\n"
     ]
    }
   ],
   "source": [
    "### solve the linear/nonlinear simutaneous equations \n",
    "\n",
    "from scipy.optimize import fsolve\n",
    "\n",
    "# variable names for printing results\n",
    "variables = [\"F1\", \"F3\", \"y2A\", \"y2N\"]\n",
    "\n",
    "def equations(V):\n",
    "\n",
    "    F1, F3, y2A, y2N = V # Note: this implies that F1 = V[0], F3 = V[1], etc. \n",
    "    \n",
    "    return (F1*0.2098 - F3*0.047 - 100*0.9,\n",
    "            F1*0.7808 - F3*0.953 - 100*y2N,\n",
    "            F1*0.0094 - 100*y2A,\n",
    "            y2A + y2N + 0.9 - 1)\n",
    "    \n",
    "solutions = fsolve(equations, [200,200,0.01,0.01] )\n",
    "\n",
    "for i in variables:\n",
    "    print (\"solved\", i, \"= \", solutions[variables.index(i)])\n"
   ]
  },
  {
   "cell_type": "code",
   "execution_count": 5,
   "id": "1f7ab072",
   "metadata": {},
   "outputs": [
    {
     "name": "stdout",
     "output_type": "stream",
     "text": [
      "solved F1 =  523.9557739570356\n",
      "solved F3 =  423.95577395677515\n",
      "solved y2A =  0.04925184275153229\n",
      "solved y2N =  0.05074815724846765\n",
      "solved y1A =  0.009400000000000054\n",
      "solved y3O =  0.047\n"
     ]
    }
   ],
   "source": [
    "# Solve the linear/nonlinear simutaneous equations (all equations)\n",
    "\n",
    "# variable names for printing results\n",
    "from scipy.optimize import fsolve\n",
    "\n",
    "variables = [\"F1\", \"F3\", \"y2A\", \"y2N\", \"y1A\", \"y3O\"]\n",
    "\n",
    "def equations(V):\n",
    "    F1, F3, y2A, y2N, y1A, y3O = V\n",
    "    \n",
    "    return (F1*0.2098 - F3*y3O - 100*0.9, # componet O\n",
    "           F1*0.7808 - F3*0.953 - 100*y2N, # component N\n",
    "           F1*y1A - 100*y2A, # component A\n",
    "           0.2098 + 0.7808 + y1A - 1, # stream 1\n",
    "           0.9 + y2N + y2A - 1, # stream 2\n",
    "           y3O + 0.953-1 )    # stream 3\n",
    "\n",
    "solutions = fsolve(equations, [200,200,0.01,0.01, 0.001, 0.01 ] )\n",
    "\n",
    "for i in variables:\n",
    "    print (\"solved\", i, \"= \", solutions[variables.index(i)])\n",
    "\n"
   ]
  },
  {
   "cell_type": "code",
   "execution_count": 10,
   "id": "3dde5ecd",
   "metadata": {},
   "outputs": [],
   "source": [
    "\n",
    "# Another way of defining equations and put them into def equations\n",
    "\n",
    "from scipy.optimize import fsolve\n",
    "\n",
    "# Input the functions as the string type in a list\n",
    "function = [\"x[0]**2 -x[1]**2 - 7\", \"x[0] - 2*x[1] - 2\"]\n",
    "\n",
    "def equations(x):\n",
    "    \n",
    "    # create a temporary list for storing eval(functions)\n",
    "    temp_list = []\n",
    "    \n",
    "    # add each function to the temporary list after eval() operation\n",
    "    for i in function:\n",
    "        temp_list.append(eval(i))\n",
    "    \n",
    "    return (temp_list)\n",
    "\n",
    "solutions = fsolve(equations, [0,0] )\n"
   ]
  },
  {
   "cell_type": "code",
   "execution_count": 11,
   "id": "71a56dcd",
   "metadata": {},
   "outputs": [
    {
     "name": "stdout",
     "output_type": "stream",
     "text": [
      "If it doesn't use the eval function: eq = x + 2\n",
      "If using the eval function: eq = 7\n"
     ]
    }
   ],
   "source": [
    "\n",
    "# Usage of eval function (change string to variable/equation type)\n",
    "\n",
    "x = 5\n",
    "eq = \"x + 2\"\n",
    "eval(eq)\n",
    "\n",
    "print (\"If it doesn't use the eval function: eq =\", eq)\n",
    "print (\"If using the eval function: eq =\", eval(eq))\n",
    "\n"
   ]
  },
  {
   "cell_type": "code",
   "execution_count": null,
   "id": "3107712b",
   "metadata": {},
   "outputs": [],
   "source": []
  }
 ],
 "metadata": {
  "kernelspec": {
   "display_name": "Python 3 (ipykernel)",
   "language": "python",
   "name": "python3"
  },
  "language_info": {
   "codemirror_mode": {
    "name": "ipython",
    "version": 3
   },
   "file_extension": ".py",
   "mimetype": "text/x-python",
   "name": "python",
   "nbconvert_exporter": "python",
   "pygments_lexer": "ipython3",
   "version": "3.9.7"
  }
 },
 "nbformat": 4,
 "nbformat_minor": 5
}
