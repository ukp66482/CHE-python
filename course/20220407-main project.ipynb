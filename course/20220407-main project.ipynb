{
 "cells": [
  {
   "cell_type": "code",
   "execution_count": 20,
   "id": "90561ab0",
   "metadata": {},
   "outputs": [],
   "source": [
    "import numpy as np\n",
    "import pandas\n",
    "\n",
    "#### inputs\n",
    "stream_direction = [\"in\",\"out\",\"out\"]   # directions of streams\n",
    "component_labels = [\"Flow rate\",\"Oxygen\",\"Nitrogen\",\"Argon\"]\n",
    "fraction_prefix = \"y\"  # mass (x) or mole (y) fraction\n",
    "\n",
    "y1N = 0.7808\n",
    "F2 = 100\n",
    "y2O = 0.9\n",
    "y1O = 0.2098\n",
    "y2N = 0.02\n",
    "y3A = 0\n",
    "\n",
    "#### solving procedure\n",
    "# Find the values for the number of streams (Ns) and components (Nc)\n",
    "\n",
    "Ns = len(stream_direction)\n",
    "Nc = len(component_labels)-1   # -1 because flowrate is not included\n",
    "\n",
    "# Prepare stream labels for the flow table\n",
    "\n",
    "s_labels = []\n",
    "for i in range(Ns):\n",
    "    s_labels.append(\"stream-\" + str(i+1) + \"_\" + stream_direction[i])  # Append the stream labels\n",
    "\n",
    "# Create an empty array for the flow table\n",
    "# Nc+1 becasue we have to include the flowrate in the table\n",
    "# dtype=object because we have to use object-type instead of number-type\n",
    "    \n",
    "# Showing the flow table with stream and component labels\n",
    "V_empty=np.empty([Ns,Nc+1],dtype=object)\n",
    "df = pandas.DataFrame(V_empty, index=s_labels, columns=component_labels)"
   ]
  },
  {
   "cell_type": "code",
   "execution_count": 21,
   "id": "06a95e07",
   "metadata": {},
   "outputs": [
    {
     "data": {
      "text/html": [
       "<div>\n",
       "<style scoped>\n",
       "    .dataframe tbody tr th:only-of-type {\n",
       "        vertical-align: middle;\n",
       "    }\n",
       "\n",
       "    .dataframe tbody tr th {\n",
       "        vertical-align: top;\n",
       "    }\n",
       "\n",
       "    .dataframe thead th {\n",
       "        text-align: right;\n",
       "    }\n",
       "</style>\n",
       "<table border=\"1\" class=\"dataframe\">\n",
       "  <thead>\n",
       "    <tr style=\"text-align: right;\">\n",
       "      <th></th>\n",
       "      <th>Flow rate</th>\n",
       "      <th>Oxygen</th>\n",
       "      <th>Nitrogen</th>\n",
       "      <th>Argon</th>\n",
       "    </tr>\n",
       "  </thead>\n",
       "  <tbody>\n",
       "    <tr>\n",
       "      <th>stream-1_in</th>\n",
       "      <td>None</td>\n",
       "      <td>None</td>\n",
       "      <td>None</td>\n",
       "      <td>None</td>\n",
       "    </tr>\n",
       "    <tr>\n",
       "      <th>stream-2_out</th>\n",
       "      <td>None</td>\n",
       "      <td>None</td>\n",
       "      <td>None</td>\n",
       "      <td>None</td>\n",
       "    </tr>\n",
       "    <tr>\n",
       "      <th>stream-3_out</th>\n",
       "      <td>None</td>\n",
       "      <td>None</td>\n",
       "      <td>None</td>\n",
       "      <td>None</td>\n",
       "    </tr>\n",
       "  </tbody>\n",
       "</table>\n",
       "</div>"
      ],
      "text/plain": [
       "             Flow rate Oxygen Nitrogen Argon\n",
       "stream-1_in       None   None     None  None\n",
       "stream-2_out      None   None     None  None\n",
       "stream-3_out      None   None     None  None"
      ]
     },
     "execution_count": 21,
     "metadata": {},
     "output_type": "execute_result"
    }
   ],
   "source": [
    "df"
   ]
  },
  {
   "cell_type": "code",
   "execution_count": null,
   "id": "e67a8319",
   "metadata": {},
   "outputs": [],
   "source": []
  },
  {
   "cell_type": "code",
   "execution_count": null,
   "id": "67bb0d66",
   "metadata": {},
   "outputs": [],
   "source": []
  }
 ],
 "metadata": {
  "kernelspec": {
   "display_name": "Python 3 (ipykernel)",
   "language": "python",
   "name": "python3"
  },
  "language_info": {
   "codemirror_mode": {
    "name": "ipython",
    "version": 3
   },
   "file_extension": ".py",
   "mimetype": "text/x-python",
   "name": "python",
   "nbconvert_exporter": "python",
   "pygments_lexer": "ipython3",
   "version": "3.9.7"
  }
 },
 "nbformat": 4,
 "nbformat_minor": 5
}
